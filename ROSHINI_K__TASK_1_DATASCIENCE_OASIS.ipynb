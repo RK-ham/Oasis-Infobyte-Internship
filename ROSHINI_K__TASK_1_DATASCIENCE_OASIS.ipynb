{
  "nbformat": 4,
  "nbformat_minor": 0,
  "metadata": {
    "colab": {
      "provenance": []
    },
    "kernelspec": {
      "name": "python3",
      "display_name": "Python 3"
    },
    "language_info": {
      "name": "python"
    }
  },
  "cells": [
    {
      "cell_type": "code",
      "execution_count": 7,
      "metadata": {
        "colab": {
          "base_uri": "https://localhost:8080/"
        },
        "id": "2E_ACwWbh9e2",
        "outputId": "689e2ee6-acf4-4ab9-dcf7-da7f8ae5d8ca"
      },
      "outputs": [
        {
          "output_type": "stream",
          "name": "stdout",
          "text": [
            "iris accuracy: 100.0 %\n"
          ]
        }
      ],
      "source": [
        "import pandas as pd\n",
        "from sklearn.model_selection import train_test_split\n",
        "from sklearn.tree import DecisionTreeClassifier\n",
        "from sklearn.metrics import accuracy_score\n",
        "\n",
        "#load and peek\n",
        "data=pd.read_csv(\"Iris.csv\")\n",
        "x_i= data.drop('Species', axis=1)\n",
        "y_i= data['Species']\n",
        "\n",
        "#split, train, predict\n",
        "xi_tr,xi_te,yi_tr,yi_te=train_test_split(x_i,y_i,test_size=.25)\n",
        "data_clf=DecisionTreeClassifier().fit(xi_tr,yi_tr)\n",
        "pred=data_clf.predict(xi_te)\n",
        "print(\"iris accuracy:\", round(accuracy_score(yi_te,pred)*100, 2),\"%\")"
      ]
    }
  ]
}