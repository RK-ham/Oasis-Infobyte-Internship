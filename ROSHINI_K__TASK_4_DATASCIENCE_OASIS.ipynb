{
  "nbformat": 4,
  "nbformat_minor": 0,
  "metadata": {
    "colab": {
      "provenance": []
    },
    "kernelspec": {
      "name": "python3",
      "display_name": "Python 3"
    },
    "language_info": {
      "name": "python"
    }
  },
  "cells": [
    {
      "cell_type": "code",
      "execution_count": 4,
      "metadata": {
        "colab": {
          "base_uri": "https://localhost:8080/"
        },
        "id": "DBxiVoCLswVa",
        "outputId": "75d7f490-5e88-4efb-8017-07ee66bcbb81"
      },
      "outputs": [
        {
          "output_type": "stream",
          "name": "stdout",
          "text": [
            "spam detector accuracy: 97.4 %\n"
          ]
        }
      ],
      "source": [
        "import pandas as pd\n",
        "from sklearn.model_selection import train_test_split\n",
        "from sklearn.feature_extraction.text import TfidfVectorizer\n",
        "from sklearn.naive_bayes import MultinomialNB\n",
        "from sklearn.metrics import accuracy_score\n",
        "mail=pd.read_csv(\"spam.csv\",encoding='latin-1')[['v1','v2']]\n",
        "mail.columns=['label','text']\n",
        "xs=mail['text']\n",
        "ys=mail['label'].map({'ham':0,'spam':1})\n",
        "\n",
        "vec=TfidfVectorizer(stop_words='english')\n",
        "xs_vec=vec.fit_transform(xs)\n",
        "xtrain,xtest,ytrain,ytest=train_test_split(xs_vec,ys,test_size=.2,random_state=3)\n",
        "sp=MultinomialNB().fit(xtrain,ytrain)\n",
        "pred=sp.predict(xtest)\n",
        "print(\"spam detector accuracy:\",round(accuracy_score(ytest,pred)*100, 2),\"%\")"
      ]
    }
  ]
}