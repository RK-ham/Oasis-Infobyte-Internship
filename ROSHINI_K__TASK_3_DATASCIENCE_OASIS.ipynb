{
  "nbformat": 4,
  "nbformat_minor": 0,
  "metadata": {
    "colab": {
      "provenance": []
    },
    "kernelspec": {
      "name": "python3",
      "display_name": "Python 3"
    },
    "language_info": {
      "name": "python"
    }
  },
  "cells": [
    {
      "cell_type": "code",
      "execution_count": 2,
      "metadata": {
        "colab": {
          "base_uri": "https://localhost:8080/"
        },
        "id": "DBxiVoCLswVa",
        "outputId": "0e73eb18-ee31-41d6-9eb9-5809403aa79e"
      },
      "outputs": [
        {
          "output_type": "stream",
          "name": "stdout",
          "text": [
            "car price R2: 0.84\n"
          ]
        }
      ],
      "source": [
        "import pandas as pd\n",
        "from sklearn.model_selection import train_test_split\n",
        "from sklearn.compose import make_column_transformer\n",
        "from sklearn.preprocessing import OneHotEncoder\n",
        "from sklearn.ensemble import RandomForestRegressor\n",
        "from sklearn.metrics import r2_score\n",
        "\n",
        "car=pd.read_csv(\"car data.csv\")\n",
        "yc=car['Selling_Price']\n",
        "xc=car.drop('Selling_Price', axis=1)\n",
        "\n",
        "#one hot encode all object col\n",
        "cat=xc.select_dtypes('object').columns.tolist()\n",
        "pred=make_column_transformer((OneHotEncoder(handle_unknown='ignore'),cat),remainder='passthrough')\n",
        "xtrain,xtest,ytrain,ytest=train_test_split(xc,yc,test_size=.2,random_state=11)\n",
        "\n",
        "model=RandomForestRegressor(n_estimators=120,random_state=11)\n",
        "pipe=make_column_transformer((OneHotEncoder(handle_unknown='ignore'),cat), remainder='passthrough')\n",
        "pipe.fit(xtrain,ytrain)\n",
        "xtra_en,xtes_en=pipe.transform(xtrain),pipe.transform(xtest)\n",
        "model.fit(xtra_en,ytrain)\n",
        "print(\"car price R2:\",round(r2_score(ytest,model.predict(xtes_en)),2))"
      ]
    }
  ]
}